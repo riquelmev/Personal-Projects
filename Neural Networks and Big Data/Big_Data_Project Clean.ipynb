{
 "cells": [
  {
   "cell_type": "markdown",
   "metadata": {
    "id": "9Us7I0GYTMmj"
   },
   "source": [
    "# Game of Thrones example from class"
   ]
  },
  {
   "cell_type": "code",
   "execution_count": null,
   "metadata": {
    "colab": {
     "base_uri": "https://localhost:8080/"
    },
    "id": "rBbCKrTSj4d0",
    "lines_to_next_cell": 2,
    "outputId": "09fef870-a20c-486b-9641-2a0b27802216"
   },
   "outputs": [],
   "source": [
    "import datetime as dt\n",
    "import json\n",
    "import os\n",
    "import re\n",
    "import string\n",
    "from collections import Counter\n",
    "from datetime import datetime, timezone\n",
    "\n",
    "import nltk\n",
    "import numpy as np\n",
    "import pandas as pd\n",
    "import praw\n",
    "import requests\n",
    "import spacy\n",
    "from matplotlib import pyplot as plt\n",
    "from nltk.corpus import stopwords\n",
    "from nltk.sentiment.vader import SentimentIntensityAnalyzer\n",
    "from nltk.tokenize import sent_tokenize, word_tokenize\n",
    "from seaborn import boxplot\n",
    "from segtok.segmenter import split_single\n",
    "from textblob import TextBlob\n",
    "from tqdm import tqdm"
   ]
  },
  {
   "cell_type": "markdown",
   "metadata": {
    "id": "HmQiWxL2Sqz8"
   },
   "source": [
    "# grab Post Game Threads from specific team"
   ]
  },
  {
   "cell_type": "code",
   "execution_count": null,
   "metadata": {
    "colab": {
     "base_uri": "https://localhost:8080/"
    },
    "id": "A6ujYaowTsIR",
    "outputId": "0c3037e8-ce39-420d-9636-d0f890680bb2"
   },
   "outputs": [],
   "source": [
    "!pip3 install praw\n",
    "!pip3 install flair"
   ]
  },
  {
   "cell_type": "code",
   "execution_count": null,
   "metadata": {
    "colab": {
     "base_uri": "https://localhost:8080/",
     "height": 305,
     "referenced_widgets": [
      "77148d35294a4c8eb999323c91c9ad87",
      "2afae16db41644a991820081b4d916d0",
      "6659f349a86b4ac08a965a5b54824d56",
      "40abe18ac59b41f7b2b045fa2c1959b9",
      "9b7195a6ac4945f3b545185f150ad3f5",
      "304d50d095304c57a6eb4508ff63238f",
      "7a76e210c9a44dfea97647b4d0408f1e",
      "9383913f8b0846e9a14e097c4158f62b",
      "4dd1b9614db74c458f768c5ede8bca6f",
      "34e9baef6d1343d6b476d2f28aee1906",
      "be6417f0327f4130ac9469b1655bfcd6",
      "50c3670a9ad047b0843a112b19489ec5",
      "75e7d86e5e02498baa3d39dea286e072",
      "a334317bf7f54557a59ea81cbe5dfbf8",
      "1f1f821d38624884aa3493973989e87d",
      "84a5e90b6c794fc28f9097a5dcb7674e"
     ]
    },
    "id": "YKf2DTRQegAb",
    "lines_to_next_cell": 2,
    "outputId": "61481037-2e3c-4b7a-bb4b-1c594eb5d1f1"
   },
   "outputs": [],
   "source": [
    "\n",
    "\n",
    "nltk.download('vader_lexicon')\n",
    "nltk.download('punkt')"
   ]
  },
  {
   "cell_type": "code",
   "execution_count": null,
   "metadata": {
    "colab": {
     "base_uri": "https://localhost:8080/"
    },
    "id": "t0kwzDx9Y0q-",
    "outputId": "8b59d519-f393-4e10-c393-0db52e3f36aa"
   },
   "outputs": [],
   "source": [
    "\n",
    "team_dict_for_url = {\n",
    "    'DenverBroncos': 'den',\n",
    "    'Patriots': 'nwe',\n",
    "    'Browns': 'cle',\n",
    "    'KansasCityChiefs': 'kan',\n",
    "    'nyjets': 'nyj'\n",
    "}\n",
    "\n",
    "\n",
    "def wins_and_losses(team, year):\n",
    "    # generate url\n",
    "    team_abrev = team_dict_for_url[team]\n",
    "    url = 'https://www.pro-football-reference.com/teams/' + \\\n",
    "        team_abrev + '/' + str(year) + '.htm#games::none'\n",
    "\n",
    "    # pandas table\n",
    "    season_stats = pd.read_html(url)[1]\n",
    "\n",
    "    # gets wins and losses for that season in a list sequentially\n",
    "    # if the team had a bye week, or the game has not happened yet (2020 season), 'nan' will be added\n",
    "    win_loss_index = season_stats[\"Unnamed: 5_level_0\"][\"Unnamed: 5_level_1\"]\n",
    "    win_loss_list = []\n",
    "    for i in range(17):\n",
    "        win_loss_list.append(win_loss_index[i])\n",
    "\n",
    "    # getting the dates for those games\n",
    "    dates_to_index = season_stats[\"Unnamed: 2_level_0\"]\n",
    "    dates = dates_to_index[\"Date\"]\n",
    "    date_list = []\n",
    "    formatted_date_list = []\n",
    "    for i in range(17):\n",
    "        non_formatted_date = str(dates[i]) + \", \" + str(year)\n",
    "        #date_list.append(str(dates[i])+ \", \" + str(year))\n",
    "\n",
    "        try:\n",
    "            split = non_formatted_date.split()\n",
    "\n",
    "            year = int(split[2])\n",
    "            month = split[0]\n",
    "            # increase year if 2020\n",
    "            if month == \"January\":\n",
    "                year += 1\n",
    "            # replace\n",
    "            split[2] = str(year)\n",
    "            non_formatted_date = \" \".join(split)\n",
    "\n",
    "            formatted_date = datetime.strptime(non_formatted_date, \"%B %d, %Y\")\n",
    "            # print(formatted_date)\n",
    "\n",
    "            # convert to unix timestamp\n",
    "            unix_timestamp = formatted_date.replace(\n",
    "                tzinfo=timezone.utc).timestamp()\n",
    "            # print(unix_timestamp)\n",
    "\n",
    "            # print(formatted_date_list)\n",
    "        except:\n",
    "            unix_timestamp = \"nan\"\n",
    "        formatted_date_list.append(unix_timestamp)\n",
    "\n",
    "    date_win_loss_dict = {}\n",
    "    for i in range(len(formatted_date_list)):\n",
    "        date = formatted_date_list[i]\n",
    "        outcome = win_loss_list[i]\n",
    "        if outcome == \"W\":\n",
    "            outcome_int = 1\n",
    "        elif outcome == \"L\":\n",
    "            outcome_int = 0\n",
    "        else:\n",
    "            outcome_int = -1\n",
    "        date_win_loss_dict[date] = outcome_int\n",
    "    return (date_win_loss_dict)\n",
    "\n",
    "\n",
    "wins_and_losses(\"DenverBroncos\", 2020)"
   ]
  },
  {
   "cell_type": "code",
   "execution_count": null,
   "metadata": {
    "id": "FX2QjMVgb5fQ"
   },
   "outputs": [],
   "source": [
    "def get_cumulative_post_sentiment(post, analyzer=\"vader\"):\n",
    "    total_comments = 0\n",
    "    total_sentiment = {\"pos\": 0, \"neg\": 0, \"neu\": 0}\n",
    "    sentiment_list = []\n",
    "    post.comments.replace_more(limit=None)\n",
    "\n",
    "    # Split into sentences, analyze each, average across\n",
    "    text = \"\\n\".join([comment.body for comment in post.comments])\n",
    "    tokenized_sentences = sent_tokenize(text)\n",
    "    for sentence in tqdm(tokenized_sentences):\n",
    "        sentiment = get_sentiment(sentence, analyzer)\n",
    "        total_sentiment[\"pos\"] += sentiment[\"pos\"]\n",
    "        total_sentiment[\"neg\"] += sentiment[\"neg\"]\n",
    "        total_sentiment[\"neu\"] += sentiment[\"neu\"]\n",
    "        total_comments += 1\n",
    "        sentiment_list.append(sentiment)\n",
    "        # print(sentiment)\n",
    "    for sentiment in total_sentiment.keys():\n",
    "        total_sentiment[sentiment] /= total_comments\n",
    "    return total_sentiment, sentiment_list\n",
    "\n",
    "\n",
    "def get_sentiment(sentence, analyzer):\n",
    "    if analyzer == \"vader\":\n",
    "        model = SentimentIntensityAnalyzer()\n",
    "        sentiment = model.polarity_scores(sentence)\n",
    "    elif analyzer == \"textblob\":\n",
    "        sentiment = {}\n",
    "        text = TextBlob(sentence)\n",
    "        polarity = (text.sentiment.polarity + 1) / 2\n",
    "        sentiment[\"pos\"] = polarity\n",
    "        sentiment[\"neg\"] = 1 - polarity\n",
    "        sentiment[\"neu\"] = 0\n",
    "    elif analyzer == \"flair\":\n",
    "        text = Sentence(sentence)\n",
    "        # stacked_embeddings.embed(text)\n",
    "        classifier.predict(text)\n",
    "        value = text.labels[0].to_dict()['value']\n",
    "        sentiment = {}\n",
    "        result = round(text.to_dict()['labels'][0]['confidence'], 4)\n",
    "        if value == 'POSITIVE':\n",
    "            sentiment[\"pos\"] = result\n",
    "            sentiment[\"neg\"] = 1 - result\n",
    "        else:\n",
    "            sentiment[\"pos\"] = 1 - result\n",
    "            sentiment[\"neg\"] = result\n",
    "        sentiment[\"neu\"] = 0\n",
    "        return sentiment\n",
    "\n",
    "    return sentiment"
   ]
  },
  {
   "cell_type": "code",
   "execution_count": null,
   "metadata": {
    "colab": {
     "base_uri": "https://localhost:8080/"
    },
    "id": "UbmDHTfbSl9i",
    "outputId": "24612f1e-ab48-4f91-a00f-8763e4dd57a2"
   },
   "outputs": [],
   "source": [
    "reddit = praw.Reddit(client_id='Vrciy8Lso6cNXw',\n",
    "                     client_secret='qR1_JCYeniK6iViLxk9RpAg0XN6DIQ', user_agent='Gimme Threads')\n",
    "teamDict: {\n",
    "    \"broncos\": \"DenverBroncos\"\n",
    "}\n",
    "\n",
    "\n",
    "def get_team_history(team, depth=5):\n",
    "    team_history = []\n",
    "    i = 0\n",
    "    post_game_threads = reddit.subreddit(team).search(\"Post Game Thread\")\n",
    "    for post in tqdm(post_game_threads):\n",
    "        if i < depth or depth < 0:\n",
    "            total_sentiment, sentiment_list = get_cumulative_post_sentiment(\n",
    "                post, analyzer=\"flair\")\n",
    "            game_summary = {\n",
    "                \"title\": post.title,\n",
    "                \"reddit_date\": dt.datetime.fromtimestamp(int(post.created)).replace(tzinfo=timezone.utc).timestamp(),\n",
    "                \"win\": 0,\n",
    "                \"pos_sentiment\": total_sentiment[\"pos\"],\n",
    "                \"neg_sentiment\": total_sentiment[\"neg\"],\n",
    "                \"neu_sentiment\": total_sentiment[\"neu\"],\n",
    "                \"sentiment_list\": sentiment_list\n",
    "            }\n",
    "            team_history.append(game_summary)\n",
    "            i += 1\n",
    "\n",
    "    return team_history\n",
    "\n",
    "\n",
    "test = get_team_history(\"DenverBroncos\", depth=3)"
   ]
  },
  {
   "cell_type": "code",
   "execution_count": null,
   "metadata": {
    "colab": {
     "base_uri": "https://localhost:8080/"
    },
    "id": "YH0uZcJ0UpoS",
    "outputId": "6b3aa5a0-326d-47f3-d50a-a27a0fff5f74"
   },
   "outputs": [],
   "source": [
    "def add_win_loss_data(team_history, win_loss_data):\n",
    "    for key, value in win_loss_data.items():\n",
    "        for game in team_history:\n",
    "            if key != \"nan\":\n",
    "                if int(key) < game[\"reddit_date\"] < int(key) + (48*60*60):\n",
    "                    game[\"win\"] = value\n",
    "\n",
    "\n",
    "win_loss_data = wins_and_losses(\"DenverBroncos\", 2020)\n",
    "\n",
    "add_win_loss_data(test, win_loss_data)\n",
    "\n",
    "for i in test:\n",
    "    print(i)"
   ]
  },
  {
   "cell_type": "code",
   "execution_count": null,
   "metadata": {
    "colab": {
     "base_uri": "https://localhost:8080/",
     "height": 265
    },
    "id": "3-b0shFafKlB",
    "lines_to_next_cell": 2,
    "outputId": "5b53116b-9506-494d-c2e2-b255c3c3e842"
   },
   "outputs": [],
   "source": [
    "neg_sentiment = [summary[\"neg_sentiment\"] for summary in test]\n",
    "pos_sentiment = [summary[\"pos_sentiment\"] for summary in test]\n",
    "wins = [summary[\"win\"] for summary in test]\n",
    "\n",
    "\n",
    "plt.plot(neg_sentiment)\n",
    "plt.plot(pos_sentiment)\n",
    "plt.plot(wins)\n",
    "plt.title = \"Sentiment Over Time\"\n",
    "plt.ylabel = \"Score\"\n",
    "plt.xlabel = \"Date\"\n",
    "plt.show()"
   ]
  },
  {
   "cell_type": "code",
   "execution_count": null,
   "metadata": {
    "colab": {
     "background_save": true,
     "base_uri": "https://localhost:8080/"
    },
    "id": "EidJ30JfpR5J",
    "outputId": "8a21108d-7bbf-492e-993a-0563a189e792"
   },
   "outputs": [],
   "source": [
    "# teams_list = [\"DenverBroncos\", \"KansasCityChiefs\", \"nyjets\", \"Browns\", \"Patriots\"]\n",
    "teams_list = [\"DenverBroncos\", \"KansasCityChiefs\",\n",
    "              \"nyjets\", \"Browns\", \"Patriots\"]\n",
    "year_list = [2020, 2019, 2018]\n",
    "teams_dict = {}\n",
    "\n",
    "for team in teams_list:\n",
    "    team_history = get_team_history(team, depth=16)  # Set depth to past games\n",
    "    for year in year_list:\n",
    "        win_loss_data = wins_and_losses(team, year)\n",
    "        add_win_loss_data(team_history, win_loss_data)\n",
    "\n",
    "    neg_sentiment = [summary[\"neg_sentiment\"] for summary in team_history]\n",
    "    pos_sentiment = [summary[\"pos_sentiment\"] for summary in team_history]\n",
    "    wins = [summary[\"win\"] for summary in team_history]\n",
    "\n",
    "    teams_dict[team] = {\"pos\": pos_sentiment,\n",
    "                        \"neg\": neg_sentiment, \"win\": wins}\n",
    "\n",
    "with open('team_histories_JSON.txt', 'w') as outfile:\n",
    "    json.dump(teams_dict, outfile)"
   ]
  },
  {
   "cell_type": "code",
   "execution_count": null,
   "metadata": {
    "colab": {
     "base_uri": "https://localhost:8080/"
    },
    "id": "TKXwm1-Wm1zY",
    "outputId": "91551baa-b3f5-433a-ef10-87977ee72e1a"
   },
   "outputs": [],
   "source": [
    "print(teams_dict[\"DenverBroncos\"][\"win\"])"
   ]
  },
  {
   "cell_type": "code",
   "execution_count": null,
   "metadata": {
    "colab": {
     "base_uri": "https://localhost:8080/",
     "height": 229
    },
    "id": "rpcLL9yH5tzK",
    "lines_to_next_cell": 2,
    "outputId": "bb5368a9-a9af-4dba-bafd-2fb777f39d76"
   },
   "outputs": [],
   "source": [
    "for team in teams_dict.keys():\n",
    "    plt.plot(teams_dict[team][\"pos\"], label=team)\n",
    "\n",
    "plt.title = \"Sentiment Over Time\"\n",
    "plt.legend(loc='best')\n",
    "plt.figure(figsize=(10, 10))\n",
    "plt.show()"
   ]
  },
  {
   "cell_type": "code",
   "execution_count": null,
   "metadata": {
    "lines_to_end_of_cell_marker": 2
   },
   "outputs": [],
   "source": [
    "with open('team_histories_JSON_vicente.txt') as json_file:\n",
    "    data = json.load(json_file)\n",
    "    print(type(data))\n",
    "    print(data.keys())\n",
    "    print(data['DenverBroncos'].keys())\n",
    "    print(data['DenverBroncos']['pos'])\n",
    "    print(data['DenverBroncos']['neg'])\n",
    "    print(data['DenverBroncos']['win'])\n",
    "    print(data['DenverBroncos']['date'])\n",
    "    print(data['DenverBroncos']['total_sentiment'])"
   ]
  },
  {
   "cell_type": "code",
   "execution_count": null,
   "metadata": {},
   "outputs": [],
   "source": [
    "with open('team_histories_JSON2.json') as json_file:\n",
    "    data = json.load(json_file)"
   ]
  },
  {
   "cell_type": "code",
   "execution_count": null,
   "metadata": {},
   "outputs": [],
   "source": [
    "print(data['Patriots']['date'])\n",
    "print(data['Patriots']['pos'])"
   ]
  },
  {
   "cell_type": "code",
   "execution_count": null,
   "metadata": {},
   "outputs": [],
   "source": [
    "x = sorttime('Patriots')\n",
    "print(x)"
   ]
  },
  {
   "cell_type": "code",
   "execution_count": null,
   "metadata": {},
   "outputs": [],
   "source": [
    "data.keys()"
   ]
  },
  {
   "cell_type": "code",
   "execution_count": null,
   "metadata": {},
   "outputs": [],
   "source": [
    "# sort time\n",
    "\n",
    "\n",
    "def sorttime(team):\n",
    "    #sorttime = {}\n",
    "   # for date in data[team]['date']:\n",
    "    # sorttime[date]=data[team]['pos']\n",
    "    res = {data[team]['date'][i]: data[team]['pos'][i]\n",
    "           for i in range(len(data[team]['date']))}\n",
    "\n",
    "    return res\n",
    "\n",
    "\n",
    "for team in data.keys():\n",
    "    sdict = sorttime(team)\n",
    "    #print (sdict)\n",
    "    x = (data[team]['date'])\n",
    "    #print (x)\n",
    "    while 0 in x:\n",
    "        x.remove(0)\n",
    "    print(x)\n",
    "    #print (team,x)\n",
    "    # for thing in x:\n",
    "    #    print (type(thing))\n",
    "    x = sorted(x)\n",
    "    #print (team,x)\n",
    "    y = []\n",
    "    for date in x:\n",
    "        y.append(sdict[date])\n",
    "    plt.plot(y)\n",
    "    #print (team,x,y)\n",
    "\n",
    "\n",
    "plt.show()"
   ]
  },
  {
   "cell_type": "code",
   "execution_count": null,
   "metadata": {},
   "outputs": [],
   "source": [
    "def sorttime2(team):\n",
    "    #sorttime = {}\n",
    "   # for date in data[team]['date']:\n",
    "    # sorttime[date]=data[team]['pos']\n",
    "    win = data[team][\"win\"]\n",
    "    while -1 in win:\n",
    "        win.remove(-1)\n",
    "    res = {data[team]['date'][i]: [data[team]['pos'][i], win[i]]\n",
    "           for i in range(len(data[team]['date']))}\n",
    "\n",
    "    return res\n",
    "\n",
    "\n",
    "def createlineteam(team):\n",
    "    final = []\n",
    "    sdict = sorttime2(team)\n",
    "    #print (sdict)\n",
    "    x = (data[team]['date'])\n",
    "    #print (x)\n",
    "    while 0 in x:\n",
    "        x.remove(0)\n",
    "    print(x)\n",
    "    #print (team,x)\n",
    "    # for thing in x:\n",
    "    #    print (type(thing))\n",
    "    x = sorted(x)\n",
    "    #print (team,x)\n",
    "    y = []\n",
    "    for date in x:\n",
    "        y.append([date, sdict[date][0], sdict[date][1]])\n",
    "    # plt.plot(y)\n",
    "    #print (team,x,y)\n",
    "    print(y)\n",
    "    df = pd.DataFrame(y, columns=['date', 'score', 'win'])\n",
    "    #df = df.pivot(index='date', columns='win', values='score')\n",
    "    df.plot.scatter(x='date', y='score', c='win', colormap='viridis')\n",
    "    plt.show()"
   ]
  },
  {
   "cell_type": "code",
   "execution_count": null,
   "metadata": {},
   "outputs": [],
   "source": [
    "#print (len(data['Patriots']['win']))\n",
    "print(data['DenverBroncos']['win'])\n",
    "\n",
    "#print (data['Patriots']['date'],data['Patriots']['win'])\n",
    "\n",
    "createlineteam('DenverBroncos')"
   ]
  },
  {
   "cell_type": "code",
   "execution_count": null,
   "metadata": {},
   "outputs": [],
   "source": [
    "# sort time\n",
    "\n",
    "\n",
    "def sorttime(team):\n",
    "    #sorttime = {}\n",
    "   # for date in data[team]['date']:\n",
    "    # sorttime[date]=data[team]['pos']\n",
    "    res = {data[team]['date'][i]: data[team]['pos'][i]\n",
    "           for i in range(len(data[team]['date']))}\n",
    "\n",
    "    return res\n",
    "\n",
    "\n",
    "team_dates = []\n",
    "team_sent = []\n",
    "for team in data.keys():\n",
    "    sdict = sorttime(team)\n",
    "    for key in sdict.keys():\n",
    "        item = [team, key, sdict[key]]\n",
    "        team_dates.append(item)\n",
    "        # team_dates.append(key)\n",
    "    # for value in sdict.values():\n",
    "        # team_sent.append(value)\n",
    "df = pd.DataFrame(team_dates, columns=['team', 'date', 'score'])\n",
    "df = df.pivot(index='date', columns='team', values='score')\n",
    "print(df)\n",
    "print(len(team_dates))\n",
    "print(len(team_sent))\n",
    "df.plot.line()\n",
    "\n",
    "\n",
    "plt.show()\n"
   ]
  },
  {
   "cell_type": "code",
   "execution_count": null,
   "metadata": {
    "lines_to_next_cell": 2
   },
   "outputs": [],
   "source": [
    "print(len(data['DenverBroncos']['total_sentiment']))"
   ]
  },
  {
   "cell_type": "code",
   "execution_count": null,
   "metadata": {},
   "outputs": [],
   "source": [
    "x = data['DenverBroncos']['total_sentiment'][0]\n",
    "print((x))"
   ]
  },
  {
   "cell_type": "code",
   "execution_count": null,
   "metadata": {},
   "outputs": [],
   "source": [
    "x = data['DenverBroncos']['total_sentiment'][0][0]\n",
    "print((x))"
   ]
  },
  {
   "cell_type": "code",
   "execution_count": null,
   "metadata": {},
   "outputs": [],
   "source": [
    "plt.figure(figsize=(10, 5), dpi=200)\n",
    "box = []\n",
    "date = data['Patriots']['total_sentiment']\n",
    "x = data['Patriots']['date']\n",
    "x = x[:5]\n",
    "date = date[:5]\n",
    "# for date in data['Patriots']['total_sentiment']:\n",
    "for date in date:\n",
    "    boxtemp = []\n",
    "    for comment in date:\n",
    "        boxtemp.append(comment['pos'])\n",
    "    box.append(boxtemp)\n",
    "plt.xlabel(sorted(x))\n",
    "#plt.xticks([1, 2, 3,4,5], sorted(x))\n",
    "plt.boxplot(box)\n",
    "\n",
    "\n",
    "plt.show()"
   ]
  },
  {
   "cell_type": "code",
   "execution_count": null,
   "metadata": {},
   "outputs": [],
   "source": [
    "\n",
    "for team in data.keys():\n",
    "    y = (data[team]['pos'])\n",
    "    x = (data[team]['date'])\n",
    "    winavg = 0\n",
    "    wincount = 0\n",
    "    losecount = 0\n",
    "    loseavg = 0\n",
    "    position = 0\n",
    "    for win in data[team]['win']:\n",
    "        if win == 1:\n",
    "            wincount += 1\n",
    "            winavg += data[team]['pos'][position]\n",
    "            position += 1\n",
    "        else:\n",
    "            losecount += 1\n",
    "            loseavg += data[team]['pos'][position]\n",
    "            position += 1\n",
    "    x2 = (winavg/wincount)\n",
    "    x1 = (loseavg/losecount)\n",
    "    plt.plot(x, y)\n",
    "    plt.axhline(x1)\n",
    "    plt.axhline(x2)\n",
    "    plt.show()\n"
   ]
  },
  {
   "cell_type": "code",
   "execution_count": null,
   "metadata": {
    "lines_to_next_cell": 2
   },
   "outputs": [],
   "source": [
    "for team in data.keys():\n",
    "    winavg = 0\n",
    "    wincount = 0\n",
    "    losecount = 0\n",
    "    loseavg = 0\n",
    "    position = 0\n",
    "    for win in data[team]['win']:\n",
    "        if win == 1:\n",
    "            wincount += 1\n",
    "            winavg += data[team]['pos'][position]\n",
    "            position += 1\n",
    "        else:\n",
    "            losecount += 1\n",
    "            loseavg += data[team]['pos'][position]\n",
    "            position += 1\n",
    "    y = (winavg/wincount)\n",
    "    x = (loseavg/losecount)\n",
    "    print(y)\n",
    "    print(x)\n",
    "\n",
    "    plt.plot(y)"
   ]
  },
  {
   "cell_type": "code",
   "execution_count": null,
   "metadata": {},
   "outputs": [],
   "source": [
    "data[team]['pos']"
   ]
  },
  {
   "cell_type": "code",
   "execution_count": null,
   "metadata": {},
   "outputs": [],
   "source": [
    "data[team]['win']"
   ]
  },
  {
   "cell_type": "code",
   "execution_count": null,
   "metadata": {},
   "outputs": [],
   "source": [
    "teams_list = [\"DenverBroncos\"]"
   ]
  },
  {
   "cell_type": "code",
   "execution_count": null,
   "metadata": {
    "id": "ekJUjQTjiWD9",
    "lines_to_next_cell": 2
   },
   "outputs": [],
   "source": [
    "slist = []\n",
    "for team in teams_list:\n",
    "    team_history = get_team_history(team, depth=10)\n",
    "    slist = summary[\"sentiment_list\"] for summary in team_history\n",
    "plot = DataFrame(slist)\n",
    "#plot.columns = range(1,13)\n",
    "plot.boxplot()\n",
    "pyplot.show()"
   ]
  },
  {
   "cell_type": "code",
   "execution_count": null,
   "metadata": {
    "id": "xVr3TP9pbytw"
   },
   "outputs": [],
   "source": []
  },
  {
   "cell_type": "code",
   "execution_count": null,
   "metadata": {
    "colab": {
     "base_uri": "https://localhost:8080/",
     "height": 215
    },
    "id": "OwJHhu_QcOUz",
    "lines_to_next_cell": 2,
    "outputId": "f4e0edb4-ec81-4fb0-a12c-e1598aada8d5"
   },
   "outputs": [],
   "source": [
    "for team in teams_list:\n",
    "    team_history = get_team_history(team, depth=10)\n",
    "    text = [summary[\"text\"] for summary in team_history]\n",
    "    print(text)"
   ]
  },
  {
   "cell_type": "code",
   "execution_count": null,
   "metadata": {
    "id": "JNg1xUWwdptH",
    "lines_to_next_cell": 2
   },
   "outputs": [],
   "source": [
    "\n",
    "\n",
    "def cleantext(text)\n",
    "\n",
    "\n",
    "tokens = word_tokenize(text)\n",
    "# convert to lower case\n",
    "tokens = [w.lower() for w in tokens]\n",
    "# remove punctuation from each word\n",
    "table = str.maketrans('', '', string.punctuation)\n",
    "stripped = [w.translate(table) for w in tokens]\n",
    "# remove remaining tokens that are not alphabetic\n",
    "words = [word for word in stripped if word.isalpha()]\n",
    "# filter out stop words\n",
    "stop_words = set(stopwords.words('english'))\n",
    "words = [w for w in words if not w in stop_words]\n",
    "return words"
   ]
  },
  {
   "cell_type": "code",
   "execution_count": null,
   "metadata": {
    "colab": {
     "base_uri": "https://localhost:8080/",
     "height": 232
    },
    "id": "Hd4b971IbzpI",
    "lines_to_next_cell": 2,
    "outputId": "a58114bd-986a-44b8-d5c1-436066742c19"
   },
   "outputs": [],
   "source": [
    "corpus = []\n",
    "target = []\n",
    "name = []\n",
    "# for each character, add its list of words to the corpus as its faction to the target array\n",
    "for team in teams_list:\n",
    "    team_history = get_team_history(team, depth=10)\n",
    "    for summary in team_history:\n",
    "        text = summary[\"text\"]\n",
    "        text = cleantext(text)\n",
    "        corpus.append(text)\n",
    "        target.append(team)"
   ]
  },
  {
   "cell_type": "code",
   "execution_count": null,
   "metadata": {
    "id": "v42PiyqfeXoW"
   },
   "outputs": [],
   "source": [
    "totalVocabUse = {}\n",
    "for word in corpus:\n",
    "    if word not in totalVocabUse.keys():\n",
    "        totalVocabUse[word] = 1\n",
    "    else:\n",
    "        totalVocabUse[word] += 1\n",
    "# remove the words that are only used for one character\n",
    "totalVocabUse = {word: count for word,\n",
    "                 count in totalVocabUse.items() if count != 1}\n",
    "\n",
    "# make the keys into a sorted list so it stays in order when we iterate through them\n",
    "vocabList = list(totalVocabUse.keys())\n",
    "vocabList.sort()"
   ]
  },
  {
   "cell_type": "code",
   "execution_count": null,
   "metadata": {
    "id": "dfmqyxNUf6KY"
   },
   "outputs": [],
   "source": [
    "sentence_vectors = []\n",
    "for sentence in corpus:\n",
    "    sentence_tokens = cleantext(sentence)\n",
    "    sent_vec = []\n",
    "    for token in totalVocabUse:\n",
    "        if token in sentence_tokens:\n",
    "            sent_vec.append(1)\n",
    "        else:\n",
    "            sent_vec.append(0)\n",
    "    sentence_vectors.append(sent_vec)"
   ]
  },
  {
   "cell_type": "code",
   "execution_count": null,
   "metadata": {
    "id": "FPAchUlEgpv1"
   },
   "outputs": [],
   "source": [
    "# do TFIDF"
   ]
  },
  {
   "cell_type": "code",
   "execution_count": null,
   "metadata": {},
   "outputs": [],
   "source": [
    "def get_win_loss_sentiment(team):\n",
    "    win_sentiment = []\n",
    "    loss_sentiment = []\n",
    "    avg_sentiment = []\n",
    "    for i, outcome in enumerate(data[team][\"win\"]):\n",
    "        if outcome == 1:\n",
    "            win_sentiment.append(data[team][\"pos\"][i])\n",
    "        elif outcome == 0:\n",
    "            loss_sentiment.append(data[team][\"pos\"][i])\n",
    "    avg_win_sent = sum(win_sentiment) / len(win_sentiment)\n",
    "    avg_loss_sent = sum(loss_sentiment) / len(loss_sentiment)\n",
    "    avg_total_sent = (sum(win_sentiment) + sum(loss_sentiment)) / \\\n",
    "        (len(win_sentiment) + len(loss_sentiment))\n",
    "    return avg_win_sent, avg_loss_sent, avg_total_sent\n",
    "\n",
    "\n",
    "team_name = []\n",
    "team_data = []\n",
    "for team in data.keys():\n",
    "    win_sent, loss_sent, avg_sent = get_win_loss_sentiment(team)\n",
    "    winlossavg = [win_sent, loss_sent, avg_sent]\n",
    "    team_name.append(team)\n",
    "    team_data.append(winlossavg)\n",
    "df = pd.DataFrame(team_data, index=team_name)\n",
    "df.columns = ['Win Avg', 'Lose Avg', 'Avg']\n",
    "print(df)\n",
    "df.plot.bar()\n",
    "\n",
    "#plt.ylabel('Monetary Value')\n",
    "# plt.gca().yaxis.set_major_formatter(ticker.FormatStrFormatter('$%.2f'))\n",
    "# plt.gca().xaxis.set_tick_params(rotation=0)"
   ]
  },
  {
   "cell_type": "code",
   "execution_count": null,
   "metadata": {},
   "outputs": [],
   "source": [
    "\n",
    "groups = [[23, 135, 3], [123, 500, 1]]\n",
    "group_labels = ['views', 'orders']\n",
    "\n",
    "# Convert data to pandas DataFrame.\n",
    "df = pd.DataFrame(groups, index=group_labels).T\n",
    "\n",
    "# Plot.\n",
    "pd.concat(\n",
    "    [df.mean().rename('average'), df.min().rename('min'),\n",
    "     df.max().rename('max')],\n",
    "    axis=1).plot.bar()\n"
   ]
  },
  {
   "cell_type": "code",
   "execution_count": null,
   "metadata": {},
   "outputs": [],
   "source": [
    "(data['Patriots'][\"win\"])"
   ]
  },
  {
   "cell_type": "markdown",
   "metadata": {
    "id": "sXwGv1rHmm_m"
   },
   "source": [
    "Link for learning how to iterate through comments: https://praw.readthedocs.io/en/stable/tutorials/comments.html"
   ]
  }
 ],
 "metadata": {
  "kernelspec": {
   "display_name": "Python 3",
   "language": "python",
   "name": "python3"
  }
 },
 "nbformat": 4,
 "nbformat_minor": 4
}
